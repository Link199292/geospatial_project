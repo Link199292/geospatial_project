version https://git-lfs.github.com/spec/v1
oid sha256:61b53183eb4247909ceeab9bfa32c54d9934f9448b83812413c2bee2e7c0b438
size 14107126
